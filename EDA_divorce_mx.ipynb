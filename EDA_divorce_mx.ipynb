{
 "cells": [
  {
   "cell_type": "code",
   "execution_count": 196,
   "id": "b5da908c",
   "metadata": {},
   "outputs": [],
   "source": [
    "import pandas as pd\n",
    "import numpy as np\n",
    "import matplotlib.pyplot as plt\n",
    "import seaborn as sns"
   ]
  },
  {
   "cell_type": "code",
   "execution_count": 197,
   "id": "0ac7d082",
   "metadata": {},
   "outputs": [
    {
     "name": "stdout",
     "output_type": "stream",
     "text": [
      "      Col_names_spanish                               Descriptions_spanish\n",
      "0     Fecha de Registro                     Fecha de registro del divorcio\n",
      "1                  Tipo  Necesario cuando alguna de las partes no acept...\n",
      "2          Nacionalidad                        Nacionalidad del divorciado\n",
      "3             F_Naci_Do                 Fecha de nacimiento del divorciado\n",
      "4            LocNaci_Do             Localidad de nacimiento del divorciado\n",
      "5           MpioNaci_Do             Municipio de nacimiento del divorciado\n",
      "6           EFedNaci_Do    Entidad Federativa de nacimiento del divorciado\n",
      "7           PaisNaci_Do                 PaÃ­s de nacimiento del divorciado\n",
      "8                  Edad                                Edad del divorciado\n",
      "9            MpioHab_Do   Municipio del domicilio que habita el divorciado\n",
      "10           EFedHab_Do  Entidad federativa del domicilio que habita el...\n",
      "11           PaisHab_Do    PaÃ­s del domicilio en que habita el divorciado\n",
      "12            ElIngreso            Ingreso mensual del divorciado en pesos\n",
      "13         Ocupacion_Do                          OcupaciÃ³n del divorciado\n",
      "14           LocHabi_Do  Localidad del domicilio donde habita el divorc...\n",
      "15        Nacionalidad2                      Nacionalidad de la divorciada\n",
      "16            F_Naci_da               Fecha de nacimiento de la divorciada\n",
      "17  Fecha de Registro 2   Fecha de registro de nacimiento de la divorciada\n",
      "18           LocNaci_Da           Localidad de nacimiento de la divorciada\n",
      "19          MpioNaci_Da           Municipio de nacimiento de la divorciada\n",
      "20          EFedNaci_Da             Entidad de nacimiento de la divorciada\n",
      "21          PaisNaci_Da               PaÃ­s de nacimiento de la divorciada\n",
      "22                Edad2                              Edad de la divorciada\n",
      "23           LocHabi_Da  Localidad del domicilio donde habita la divorc...\n",
      "24           MpioHab_Da   Municipio del domicilio que habita la divorciada\n",
      "25           EFedHab_Da  Entidad federativa del domicilio que habita la...\n",
      "26           PaisHab_Da    PaÃ­s del domicilio en que habita la divorciada\n",
      "27         Ocupación_Da                        OcupaciÃ³n de la divorciada\n",
      "28          EllaIngreso          Ingreso mensual de la divorciada en pesos\n",
      "29                Fecha    Fecha del acta de matrimonio de los divorciados\n",
      "30            Localidad  Localidad en que se levantó el acta de matrimo...\n",
      "31            Municipio  Municipio en que se levantó el acta de matrimo...\n",
      "32   Entidad Federativa  Entidad federativa en que se levantó el acta d...\n",
      "33        ElEscolaridad                         Escolaridad del divorciado\n",
      "34            ElTrabajo                             Trabajo del divorciado\n",
      "35      EllaEscolaridad                       Escolaridad de la divorciada\n",
      "36          EllaTrabajo                           Trabajo de la divorciada\n",
      "37           Matri_Años                           DuraciÃ³n del matrimonio\n",
      "38          Matri_Meses                                 DuraciÃ³n en meses\n",
      "39            Num_Hijos                        Hijos durante el matrimonio\n",
      "40             Custodia                                                 na\n"
     ]
    }
   ],
   "source": [
    "# Carga de tabla con explicaciones de cada columna\n",
    "\n",
    "col_explicacion = pd.read_csv('descriptions_for_ column.csv', encoding='latin-1')\n",
    "col_explicacion = col_explicacion.drop(columns=['Col_names_english', \n",
    "                                                'Descriptions_english'])\n",
    "print(col_explicacion)"
   ]
  },
  {
   "cell_type": "code",
   "execution_count": 198,
   "id": "1d71b45c",
   "metadata": {},
   "outputs": [
    {
     "data": {
      "text/plain": [
       "Index(['Fecha_divor', 'Tipo', 'Nacionalidad_Do', 'F_Naci_Do', 'PaisNaci_Do',\n",
       "       'Edad_Do', 'PaisHab_Do', 'ElIngreso', 'Ocupacion_Do', 'Nacionalidad_Da',\n",
       "       'F_Naci_Da', 'PaisNaci_Da', 'Edad_Da', 'PaisHab_Da', 'Ocupacion_Da',\n",
       "       'EllaIngreso', 'Fecha_matri', 'Entidad Federativa', 'ElEscolaridad',\n",
       "       'ElTrabajo', 'EllaEscolaridad', 'EllaTrabajo', 'Matri_Años',\n",
       "       'Matri_Meses', 'Num_Hijos', 'Custodia'],\n",
       "      dtype='object')"
      ]
     },
     "metadata": {},
     "output_type": "display_data"
    }
   ],
   "source": [
    "# Carga de DF + renombre de columnas + descarte de columnas \n",
    "\n",
    "df = pd.read_csv('divorces_2000-2015_original.csv', \n",
    "                 parse_dates=['Fecha de Registro', 'F_Naci_Do', 'F_Naci_Da', 'Fecha'],\n",
    "                 date_format='%d-%m-%Y')\n",
    "\n",
    "df = df.rename(columns={'Ocupaci√≥n_Do': 'Ocupacion_Do', \n",
    "                   'Ocupaci√≥n_Da': 'Ocupacion_Da',\n",
    "                   'Matri_A√±os': 'Matri_Años',\n",
    "                   'Edad': 'Edad_Do', 'Edad2': 'Edad_Da',\n",
    "                   'Nacionalidad': 'Nacionalidad_Do', \n",
    "                   'Nacionalidad2': 'Nacionalidad_Da',\n",
    "                   'Fecha': 'Fecha_matri', 'Fecha de Registro': 'Fecha_divor'})\n",
    "\n",
    "df = df.drop(columns=['LocNaci_Do', 'MpioNaci_Do', 'EFedNaci_Do', 'MpioHab_Do',\n",
    "                      'EFedHab_Do', 'LocHabi_Do', 'LocNaci_Da', 'MpioNaci_Da', \n",
    "                      'EFedNaci_Da', 'MpioHab_Da','EFedHab_Da', 'LocHabi_Da',\n",
    "                      'Fecha de Registro 2', 'Localidad', 'Municipio'])\n",
    "\n",
    "display(df.columns)"
   ]
  },
  {
   "cell_type": "code",
   "execution_count": 199,
   "id": "c4c6a90c",
   "metadata": {},
   "outputs": [
    {
     "name": "stdout",
     "output_type": "stream",
     "text": [
      "<class 'pandas.core.frame.DataFrame'>\n",
      "RangeIndex: 4923 entries, 0 to 4922\n",
      "Data columns (total 26 columns):\n",
      " #   Column              Non-Null Count  Dtype  \n",
      "---  ------              --------------  -----  \n",
      " 0   Fecha_divor         4923 non-null   object \n",
      " 1   Tipo                4923 non-null   object \n",
      " 2   Nacionalidad_Do     4922 non-null   object \n",
      " 3   F_Naci_Do           4542 non-null   object \n",
      " 4   PaisNaci_Do         4796 non-null   object \n",
      " 5   Edad_Do             4816 non-null   float64\n",
      " 6   PaisHab_Do          4599 non-null   object \n",
      " 7   ElIngreso           3504 non-null   float64\n",
      " 8   Ocupacion_Do        4394 non-null   object \n",
      " 9   Nacionalidad_Da     4920 non-null   object \n",
      " 10  F_Naci_Da           4471 non-null   object \n",
      " 11  PaisNaci_Da         4784 non-null   object \n",
      " 12  Edad_Da             4772 non-null   float64\n",
      " 13  PaisHab_Da          4618 non-null   object \n",
      " 14  Ocupacion_Da        4345 non-null   object \n",
      " 15  EllaIngreso         2804 non-null   float64\n",
      " 16  Fecha_matri         4923 non-null   object \n",
      " 17  Entidad Federativa  4923 non-null   object \n",
      " 18  ElEscolaridad       4619 non-null   object \n",
      " 19  ElTrabajo           4567 non-null   object \n",
      " 20  EllaEscolaridad     4543 non-null   object \n",
      " 21  EllaTrabajo         4506 non-null   object \n",
      " 22  Matri_Años          4688 non-null   float64\n",
      " 23  Matri_Meses         1555 non-null   float64\n",
      " 24  Num_Hijos           3011 non-null   float64\n",
      " 25  Custodia            2072 non-null   object \n",
      "dtypes: float64(7), object(19)\n",
      "memory usage: 1000.1+ KB\n"
     ]
    }
   ],
   "source": [
    "df.info()"
   ]
  },
  {
   "cell_type": "code",
   "execution_count": 200,
   "id": "fea43abb",
   "metadata": {},
   "outputs": [
    {
     "data": {
      "text/html": [
       "<div>\n",
       "<style scoped>\n",
       "    .dataframe tbody tr th:only-of-type {\n",
       "        vertical-align: middle;\n",
       "    }\n",
       "\n",
       "    .dataframe tbody tr th {\n",
       "        vertical-align: top;\n",
       "    }\n",
       "\n",
       "    .dataframe thead th {\n",
       "        text-align: right;\n",
       "    }\n",
       "</style>\n",
       "<table border=\"1\" class=\"dataframe\">\n",
       "  <thead>\n",
       "    <tr style=\"text-align: right;\">\n",
       "      <th></th>\n",
       "      <th>Edad_Do</th>\n",
       "      <th>ElIngreso</th>\n",
       "      <th>Edad_Da</th>\n",
       "      <th>EllaIngreso</th>\n",
       "      <th>Matri_Años</th>\n",
       "      <th>Matri_Meses</th>\n",
       "      <th>Num_Hijos</th>\n",
       "    </tr>\n",
       "  </thead>\n",
       "  <tbody>\n",
       "    <tr>\n",
       "      <th>count</th>\n",
       "      <td>4816.000000</td>\n",
       "      <td>3.504000e+03</td>\n",
       "      <td>4772.000000</td>\n",
       "      <td>2804.000000</td>\n",
       "      <td>4688.000000</td>\n",
       "      <td>1555.000000</td>\n",
       "      <td>3011.000000</td>\n",
       "    </tr>\n",
       "    <tr>\n",
       "      <th>mean</th>\n",
       "      <td>39.443729</td>\n",
       "      <td>1.092011e+04</td>\n",
       "      <td>36.958089</td>\n",
       "      <td>7374.254094</td>\n",
       "      <td>11.723549</td>\n",
       "      <td>6.293891</td>\n",
       "      <td>1.815344</td>\n",
       "    </tr>\n",
       "    <tr>\n",
       "      <th>std</th>\n",
       "      <td>10.396888</td>\n",
       "      <td>7.056976e+04</td>\n",
       "      <td>9.934723</td>\n",
       "      <td>16337.048502</td>\n",
       "      <td>9.298888</td>\n",
       "      <td>3.865557</td>\n",
       "      <td>0.930711</td>\n",
       "    </tr>\n",
       "    <tr>\n",
       "      <th>min</th>\n",
       "      <td>19.000000</td>\n",
       "      <td>2.400000e+00</td>\n",
       "      <td>17.000000</td>\n",
       "      <td>3.500000</td>\n",
       "      <td>1.000000</td>\n",
       "      <td>0.000000</td>\n",
       "      <td>1.000000</td>\n",
       "    </tr>\n",
       "    <tr>\n",
       "      <th>25%</th>\n",
       "      <td>32.000000</td>\n",
       "      <td>3.000000e+03</td>\n",
       "      <td>29.000000</td>\n",
       "      <td>3000.000000</td>\n",
       "      <td>4.000000</td>\n",
       "      <td>4.000000</td>\n",
       "      <td>1.000000</td>\n",
       "    </tr>\n",
       "    <tr>\n",
       "      <th>50%</th>\n",
       "      <td>38.000000</td>\n",
       "      <td>5.600000e+03</td>\n",
       "      <td>35.000000</td>\n",
       "      <td>5000.000000</td>\n",
       "      <td>9.000000</td>\n",
       "      <td>6.000000</td>\n",
       "      <td>2.000000</td>\n",
       "    </tr>\n",
       "    <tr>\n",
       "      <th>75%</th>\n",
       "      <td>46.000000</td>\n",
       "      <td>1.000000e+04</td>\n",
       "      <td>43.000000</td>\n",
       "      <td>8000.000000</td>\n",
       "      <td>17.000000</td>\n",
       "      <td>9.000000</td>\n",
       "      <td>2.000000</td>\n",
       "    </tr>\n",
       "    <tr>\n",
       "      <th>max</th>\n",
       "      <td>91.000000</td>\n",
       "      <td>3.150242e+06</td>\n",
       "      <td>84.000000</td>\n",
       "      <td>708652.000000</td>\n",
       "      <td>61.000000</td>\n",
       "      <td>93.000000</td>\n",
       "      <td>10.000000</td>\n",
       "    </tr>\n",
       "  </tbody>\n",
       "</table>\n",
       "</div>"
      ],
      "text/plain": [
       "           Edad_Do     ElIngreso      Edad_Da    EllaIngreso   Matri_Años  \\\n",
       "count  4816.000000  3.504000e+03  4772.000000    2804.000000  4688.000000   \n",
       "mean     39.443729  1.092011e+04    36.958089    7374.254094    11.723549   \n",
       "std      10.396888  7.056976e+04     9.934723   16337.048502     9.298888   \n",
       "min      19.000000  2.400000e+00    17.000000       3.500000     1.000000   \n",
       "25%      32.000000  3.000000e+03    29.000000    3000.000000     4.000000   \n",
       "50%      38.000000  5.600000e+03    35.000000    5000.000000     9.000000   \n",
       "75%      46.000000  1.000000e+04    43.000000    8000.000000    17.000000   \n",
       "max      91.000000  3.150242e+06    84.000000  708652.000000    61.000000   \n",
       "\n",
       "       Matri_Meses    Num_Hijos  \n",
       "count  1555.000000  3011.000000  \n",
       "mean      6.293891     1.815344  \n",
       "std       3.865557     0.930711  \n",
       "min       0.000000     1.000000  \n",
       "25%       4.000000     1.000000  \n",
       "50%       6.000000     2.000000  \n",
       "75%       9.000000     2.000000  \n",
       "max      93.000000    10.000000  "
      ]
     },
     "execution_count": 200,
     "metadata": {},
     "output_type": "execute_result"
    }
   ],
   "source": [
    "df.describe()"
   ]
  },
  {
   "cell_type": "code",
   "execution_count": 201,
   "id": "2907c138",
   "metadata": {},
   "outputs": [
    {
     "data": {
      "text/plain": [
       "0       18/12/75\n",
       "1            NaN\n",
       "2        22/2/55\n",
       "3        20/1/64\n",
       "4       30/10/75\n",
       "          ...   \n",
       "4918    29/10/77\n",
       "4919    10/11/82\n",
       "4920    28/10/54\n",
       "4921      7/2/58\n",
       "4922     22/6/60\n",
       "Name: F_Naci_Do, Length: 4923, dtype: object"
      ]
     },
     "metadata": {},
     "output_type": "display_data"
    }
   ],
   "source": [
    "df['PaisNaci_Do'] = df['PaisNaci_Do'].fillna(df['PaisNaci_Do'].mode()[0])\n",
    "df['PaisNaci_Da'] = df['PaisNaci_Da'].fillna(df['PaisNaci_Da'].mode()[0])\n",
    "\n",
    "df['Nacionalidad_Do'] = df['Nacionalidad_Do'].fillna(df['Nacionalidad_Do'].mode()[0])\n",
    "df['Nacionalidad_Da'] = df['Nacionalidad_Da'].fillna(df['Nacionalidad_Da'].mode()[0])\n",
    "\n",
    "df['PaisHab_Do'] = df['PaisHab_Do'].fillna(df['PaisHab_Do'].mode()[0])\n",
    "df['PaisHab_Da'] = df['PaisHab_Da'].fillna(df['PaisHab_Da'].mode()[0])\n",
    "\n",
    "display(df['F_Naci_Do'])"
   ]
  },
  {
   "cell_type": "code",
   "execution_count": 202,
   "id": "6c6e842b",
   "metadata": {},
   "outputs": [
    {
     "data": {
      "text/plain": [
       "Fecha_divor              0\n",
       "Tipo                     0\n",
       "Nacionalidad_Do          0\n",
       "F_Naci_Do              381\n",
       "PaisNaci_Do              0\n",
       "Edad_Do                107\n",
       "PaisHab_Do               0\n",
       "ElIngreso             1419\n",
       "Ocupacion_Do           529\n",
       "Nacionalidad_Da          0\n",
       "F_Naci_Da              452\n",
       "PaisNaci_Da              0\n",
       "Edad_Da                151\n",
       "PaisHab_Da               0\n",
       "Ocupacion_Da           578\n",
       "EllaIngreso           2119\n",
       "Fecha_matri              0\n",
       "Entidad Federativa       0\n",
       "ElEscolaridad          304\n",
       "ElTrabajo              356\n",
       "EllaEscolaridad        380\n",
       "EllaTrabajo            417\n",
       "Matri_Años             235\n",
       "Matri_Meses           3368\n",
       "Num_Hijos             1912\n",
       "Custodia              2851\n",
       "dtype: int64"
      ]
     },
     "execution_count": 202,
     "metadata": {},
     "output_type": "execute_result"
    }
   ],
   "source": [
    "df.isnull().sum()"
   ]
  }
 ],
 "metadata": {
  "kernelspec": {
   "display_name": "venv",
   "language": "python",
   "name": "python3"
  },
  "language_info": {
   "codemirror_mode": {
    "name": "ipython",
    "version": 3
   },
   "file_extension": ".py",
   "mimetype": "text/x-python",
   "name": "python",
   "nbconvert_exporter": "python",
   "pygments_lexer": "ipython3",
   "version": "3.13.3"
  }
 },
 "nbformat": 4,
 "nbformat_minor": 5
}

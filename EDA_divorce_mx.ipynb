{
 "cells": [
  {
   "cell_type": "code",
   "execution_count": 235,
   "id": "b5da908c",
   "metadata": {},
   "outputs": [],
   "source": [
    "import pandas as pd\n",
    "import numpy as np\n",
    "import matplotlib.pyplot as plt\n",
    "import seaborn as sns"
   ]
  },
  {
   "cell_type": "code",
   "execution_count": 236,
   "id": "0ac7d082",
   "metadata": {},
   "outputs": [
    {
     "name": "stdout",
     "output_type": "stream",
     "text": [
      "      Col_names_spanish                               Descriptions_spanish\n",
      "0     Fecha de Registro                     Fecha de registro del divorcio\n",
      "1                  Tipo  Necesario cuando alguna de las partes no acept...\n",
      "2          Nacionalidad                        Nacionalidad del divorciado\n",
      "3             F_Naci_Do                 Fecha de nacimiento del divorciado\n",
      "4            LocNaci_Do             Localidad de nacimiento del divorciado\n",
      "5           MpioNaci_Do             Municipio de nacimiento del divorciado\n",
      "6           EFedNaci_Do    Entidad Federativa de nacimiento del divorciado\n",
      "7           PaisNaci_Do                 PaÃ­s de nacimiento del divorciado\n",
      "8                  Edad                                Edad del divorciado\n",
      "9            MpioHab_Do   Municipio del domicilio que habita el divorciado\n",
      "10           EFedHab_Do  Entidad federativa del domicilio que habita el...\n",
      "11           PaisHab_Do    PaÃ­s del domicilio en que habita el divorciado\n",
      "12            ElIngreso            Ingreso mensual del divorciado en pesos\n",
      "13         Ocupacion_Do                          OcupaciÃ³n del divorciado\n",
      "14           LocHabi_Do  Localidad del domicilio donde habita el divorc...\n",
      "15        Nacionalidad2                      Nacionalidad de la divorciada\n",
      "16            F_Naci_da               Fecha de nacimiento de la divorciada\n",
      "17  Fecha de Registro 2   Fecha de registro de nacimiento de la divorciada\n",
      "18           LocNaci_Da           Localidad de nacimiento de la divorciada\n",
      "19          MpioNaci_Da           Municipio de nacimiento de la divorciada\n",
      "20          EFedNaci_Da             Entidad de nacimiento de la divorciada\n",
      "21          PaisNaci_Da               PaÃ­s de nacimiento de la divorciada\n",
      "22                Edad2                              Edad de la divorciada\n",
      "23           LocHabi_Da  Localidad del domicilio donde habita la divorc...\n",
      "24           MpioHab_Da   Municipio del domicilio que habita la divorciada\n",
      "25           EFedHab_Da  Entidad federativa del domicilio que habita la...\n",
      "26           PaisHab_Da    PaÃ­s del domicilio en que habita la divorciada\n",
      "27         Ocupación_Da                        OcupaciÃ³n de la divorciada\n",
      "28          EllaIngreso          Ingreso mensual de la divorciada en pesos\n",
      "29                Fecha    Fecha del acta de matrimonio de los divorciados\n",
      "30            Localidad  Localidad en que se levantó el acta de matrimo...\n",
      "31            Municipio  Municipio en que se levantó el acta de matrimo...\n",
      "32   Entidad Federativa  Entidad federativa en que se levantó el acta d...\n",
      "33        ElEscolaridad                         Escolaridad del divorciado\n",
      "34            ElTrabajo                             Trabajo del divorciado\n",
      "35      EllaEscolaridad                       Escolaridad de la divorciada\n",
      "36          EllaTrabajo                           Trabajo de la divorciada\n",
      "37           Matri_Años                           DuraciÃ³n del matrimonio\n",
      "38          Matri_Meses                                 DuraciÃ³n en meses\n",
      "39            Num_Hijos                        Hijos durante el matrimonio\n",
      "40             Custodia                                                 na\n"
     ]
    }
   ],
   "source": [
    "# Carga de tabla con explicaciones de cada columna\n",
    "\n",
    "col_explicacion = pd.read_csv('descriptions_for_ column.csv', encoding='latin-1')\n",
    "col_explicacion = col_explicacion.drop(columns=['Col_names_english', \n",
    "                                                'Descriptions_english'])\n",
    "print(col_explicacion)"
   ]
  },
  {
   "cell_type": "code",
   "execution_count": 237,
   "id": "1d71b45c",
   "metadata": {},
   "outputs": [
    {
     "data": {
      "text/plain": [
       "Index(['Fecha_divor', 'Tipo', 'Nacionalidad_Do', 'F_Naci_Do', 'PaisNaci_Do',\n",
       "       'Edad_Do', 'PaisHab_Do', 'ElIngreso', 'Ocupacion_Do', 'Nacionalidad_Da',\n",
       "       'F_Naci_Da', 'PaisNaci_Da', 'Edad_Da', 'PaisHab_Da', 'Ocupacion_Da',\n",
       "       'EllaIngreso', 'Fecha_matri', 'Entidad Federativa', 'ElEscolaridad',\n",
       "       'ElTrabajo', 'EllaEscolaridad', 'EllaTrabajo', 'Matri_Años',\n",
       "       'Num_Hijos', 'Custodia'],\n",
       "      dtype='object')"
      ]
     },
     "metadata": {},
     "output_type": "display_data"
    }
   ],
   "source": [
    "# Carga de DF + renombre de columnas + descarte de columnas \n",
    "\n",
    "df = pd.read_csv('divorces_2000-2015_original.csv', \n",
    "                 parse_dates=['Fecha de Registro', 'F_Naci_Do', 'F_Naci_Da', 'Fecha'],\n",
    "                 date_format='%d/%m/%y')\n",
    "\n",
    "df = df.rename(columns={'Ocupaci√≥n_Do': 'Ocupacion_Do', \n",
    "                   'Ocupaci√≥n_Da': 'Ocupacion_Da',\n",
    "                   'Matri_A√±os': 'Matri_Años',\n",
    "                   'Edad': 'Edad_Do', 'Edad2': 'Edad_Da',\n",
    "                   'Nacionalidad': 'Nacionalidad_Do', \n",
    "                   'Nacionalidad2': 'Nacionalidad_Da',\n",
    "                   'Fecha': 'Fecha_matri', 'Fecha de Registro': 'Fecha_divor'})\n",
    "\n",
    "df = df.drop(columns=['LocNaci_Do', 'MpioNaci_Do', 'EFedNaci_Do', 'MpioHab_Do',\n",
    "                      'EFedHab_Do', 'LocHabi_Do', 'LocNaci_Da', 'MpioNaci_Da', \n",
    "                      'EFedNaci_Da', 'MpioHab_Da','EFedHab_Da', 'LocHabi_Da',\n",
    "                      'Fecha de Registro 2', 'Localidad', 'Municipio', \n",
    "                      'Matri_Meses'])\n",
    "\n",
    "display(df.columns)"
   ]
  },
  {
   "cell_type": "code",
   "execution_count": 238,
   "id": "c4c6a90c",
   "metadata": {},
   "outputs": [
    {
     "name": "stdout",
     "output_type": "stream",
     "text": [
      "<class 'pandas.core.frame.DataFrame'>\n",
      "RangeIndex: 4923 entries, 0 to 4922\n",
      "Data columns (total 25 columns):\n",
      " #   Column              Non-Null Count  Dtype         \n",
      "---  ------              --------------  -----         \n",
      " 0   Fecha_divor         4923 non-null   datetime64[ns]\n",
      " 1   Tipo                4923 non-null   object        \n",
      " 2   Nacionalidad_Do     4922 non-null   object        \n",
      " 3   F_Naci_Do           4542 non-null   datetime64[ns]\n",
      " 4   PaisNaci_Do         4796 non-null   object        \n",
      " 5   Edad_Do             4816 non-null   float64       \n",
      " 6   PaisHab_Do          4599 non-null   object        \n",
      " 7   ElIngreso           3504 non-null   float64       \n",
      " 8   Ocupacion_Do        4394 non-null   object        \n",
      " 9   Nacionalidad_Da     4920 non-null   object        \n",
      " 10  F_Naci_Da           4471 non-null   datetime64[ns]\n",
      " 11  PaisNaci_Da         4784 non-null   object        \n",
      " 12  Edad_Da             4772 non-null   float64       \n",
      " 13  PaisHab_Da          4618 non-null   object        \n",
      " 14  Ocupacion_Da        4345 non-null   object        \n",
      " 15  EllaIngreso         2804 non-null   float64       \n",
      " 16  Fecha_matri         4923 non-null   datetime64[ns]\n",
      " 17  Entidad Federativa  4923 non-null   object        \n",
      " 18  ElEscolaridad       4619 non-null   object        \n",
      " 19  ElTrabajo           4567 non-null   object        \n",
      " 20  EllaEscolaridad     4543 non-null   object        \n",
      " 21  EllaTrabajo         4506 non-null   object        \n",
      " 22  Matri_Años          4688 non-null   float64       \n",
      " 23  Num_Hijos           3011 non-null   float64       \n",
      " 24  Custodia            2072 non-null   object        \n",
      "dtypes: datetime64[ns](4), float64(6), object(15)\n",
      "memory usage: 961.7+ KB\n"
     ]
    }
   ],
   "source": [
    "df.info()"
   ]
  },
  {
   "cell_type": "code",
   "execution_count": 240,
   "id": "febdff22",
   "metadata": {},
   "outputs": [
    {
     "data": {
      "text/plain": [
       "Fecha_divor           0\n",
       "Tipo                  0\n",
       "Nacionalidad_Do       0\n",
       "F_Naci_Do             0\n",
       "PaisNaci_Do           0\n",
       "Edad_Do               0\n",
       "PaisHab_Do            0\n",
       "ElIngreso             0\n",
       "Ocupacion_Do          0\n",
       "Nacionalidad_Da       0\n",
       "F_Naci_Da             0\n",
       "PaisNaci_Da           0\n",
       "Edad_Da               0\n",
       "PaisHab_Da            0\n",
       "Ocupacion_Da          0\n",
       "EllaIngreso           0\n",
       "Fecha_matri           0\n",
       "Entidad Federativa    0\n",
       "ElEscolaridad         0\n",
       "ElTrabajo             0\n",
       "EllaEscolaridad       0\n",
       "EllaTrabajo           0\n",
       "Matri_Años            0\n",
       "Num_Hijos             0\n",
       "Custodia              0\n",
       "dtype: int64"
      ]
     },
     "execution_count": 240,
     "metadata": {},
     "output_type": "execute_result"
    }
   ],
   "source": [
    "df.isnull().sum()"
   ]
  },
  {
   "cell_type": "code",
   "execution_count": null,
   "id": "aff4e6b5",
   "metadata": {},
   "outputs": [],
   "source": [
    "# Manejo de Nulos Cualitativos (llenados con la moda)\n",
    "col_cualitativas = ['PaisNaci_Do', 'PaisNaci_Da', 'Nacionalidad_Do',\n",
    "                    'Nacionalidad_Da', 'PaisHab_Do', 'PaisHab_Da',\n",
    "                    'Ocupacion_Do', 'Ocupacion_Da', 'ElEscolaridad',\n",
    "                    'EllaEscolaridad', 'ElTrabajo', 'EllaTrabajo', 'Custodia',\n",
    "                    'F_Naci_Do', 'F_Naci_Da']\n",
    "\n",
    "for col in col_cualitativas:\n",
    "    df[col] = df[col].fillna(df[col].mode()[0])\n",
    "\n",
    "# Manejo de Nulos Cuantitativos (llenados con la mediana)\n",
    "col_cuantitativas = ['Edad_Do', 'Edad_Da', 'ElIngreso', 'EllaIngreso']\n",
    "\n",
    "for col in col_cuantitativas:\n",
    "    df[col] = df[col].fillna(df[col].median())\n",
    "    \n",
    "# Manejo de Años de Matrimonio nulos, se calculan con\n",
    "# (fecha de divorcio - fecha de matrimonio) redondeados sin decimales\n",
    "dif_dias = (df['Fecha_divor'] - df['Fecha_matri']).dt.days\n",
    "years_casados = round(dif_dias / 365.25, 0) #.25 para considerar años bisiestos\n",
    "df['Matri_Años'] = df['Matri_Años'].fillna(years_casados)\n",
    "\n",
    "# Se asumen que los NaN en Num_hijos quieren decir 0 hijos (mas del 40% de filas)\n",
    "df['Num_Hijos'] = df['Num_Hijos'].fillna(0)"
   ]
  }
 ],
 "metadata": {
  "kernelspec": {
   "display_name": "venv",
   "language": "python",
   "name": "python3"
  },
  "language_info": {
   "codemirror_mode": {
    "name": "ipython",
    "version": 3
   },
   "file_extension": ".py",
   "mimetype": "text/x-python",
   "name": "python",
   "nbconvert_exporter": "python",
   "pygments_lexer": "ipython3",
   "version": "3.13.3"
  }
 },
 "nbformat": 4,
 "nbformat_minor": 5
}
